{
 "cells": [
  {
   "cell_type": "code",
   "execution_count": 2,
   "metadata": {},
   "outputs": [],
   "source": [
    "from keras.datasets import mnist\n",
    "import matplotlib.pyplot as plt\n",
    "import random\n",
    "import numpy as np"
   ]
  },
  {
   "cell_type": "code",
   "execution_count": 3,
   "metadata": {},
   "outputs": [
    {
     "name": "stdout",
     "output_type": "stream",
     "text": [
      "(12665, 28, 28)\n",
      "(12665,)\n",
      "(2115, 28, 28)\n",
      "(2115,)\n"
     ]
    }
   ],
   "source": [
    "(x_trn, y_trn), (x_tst, y_tst) = mnist.load_data()\n",
    "train_filter = np.where((y_trn == 0) | (y_trn == 1))\n",
    "test_filter = np.where((y_tst == 0) | (y_tst == 1))\n",
    "x_trn, y_trn = x_trn[train_filter], y_trn[train_filter]\n",
    "x_tst, y_tst = x_tst[test_filter], y_tst[test_filter]\n",
    "print(x_trn.shape)\n",
    "print(y_trn.shape)\n",
    "print(x_tst.shape)\n",
    "print(y_tst.shape)"
   ]
  },
  {
   "cell_type": "code",
   "execution_count": 4,
   "metadata": {},
   "outputs": [],
   "source": [
    "x_train = np.array(x_trn, np.float32)\n",
    "x_test = np.array(x_tst, np.float32)\n",
    "\n",
    "x_train = x_train.reshape([-1, 784])\n",
    "x_test = x_test.reshape([-1, 784])\n",
    "\n",
    "x_train = x_train / 255.0\n",
    "x_test = x_test / 255.0"
   ]
  },
  {
   "cell_type": "code",
   "execution_count": 5,
   "metadata": {},
   "outputs": [
    {
     "data": {
      "image/png": "[encoded data removed]",
      "text/plain": [
       "<Figure size 1600x800 with 9 Axes>"
      ]
     },
     "metadata": {},
     "output_type": "display_data"
    }
   ],
   "source": [
    "fig, axs = plt.subplots(1, 9, figsize = (16, 8))\n",
    "for i in range(9):\n",
    "    axs[i].imshow(x_trn[i]) "
   ]
  },
  {
   "cell_type": "code",
   "execution_count": 6,
   "metadata": {},
   "outputs": [
    {
     "name": "stdout",
     "output_type": "stream",
     "text": [
      "[-2.  1. -3.  0. -5. -2.  2.  2.  1.  5.  3. -1. -1. -1. -1.  3.  3.  3.\n",
      "  0.  3. -3. -3.  5.  4.  1. -4.  4. -3. -5. -1. -5.  2. -1. -1. -5.  4.\n",
      "  1.  1.  3. -1.  5.  1.  2.  1. -3. -1. -4.  2. -3. -1.  0. -1.  2.  3.\n",
      " -1.  3.  1. -4.  4. -4.  3.  1.  0.  5. -2.  3.  5. -5. -1.  5.  3. -5.\n",
      "  0.  4.  5.  3.  2. -4. -5.  5.  4. -2. -2. -3. -4. -5.  4.  3.  1. -3.\n",
      "  1. -4. -2. -3.  0. -2. -3. -5. -5.  0. -4.  5. -4.  2. -5.  3. -1. -1.\n",
      "  5. -5.  0. -2.  3. -4. -2.  3. -4. -3. -3.  0. -2. -2.  0. -4. -5. -3.\n",
      "  4.  3.  3. -4.  3. -1.  2. -1. -3.  5.  1.  5.  5. -4. -3.  0.  1. -2.\n",
      " -1. -1.  4.  1. -5.  5.  0.  0. -4. -5.  3.  3.  1. -4.  1. -5.  0.  2.\n",
      "  1.  2. -1. -2.  5.  4.  3.  1.  3. -5.  4. -3. -4. -1.  5. -1.  0.  2.\n",
      " -1.  2. -4.  1.  2.  1. -4. -4.  3. -3.  5. -2. -4. -5.  0.  1. -2. -1.\n",
      " -3.  5.  1. -1.  4. -2.  0.  0. -1.  4. -1. -2.  0.  2.  5. -3.  1. -5.\n",
      "  2. -2. -2.  0. -3. -2. -2.  0.  0.  2. -4. -4. -2. -2. -1. -4.  1.  4.\n",
      " -2.  4. -4.  5.  0.  3. -5. -5.  3. -4. -3.  5.  3. -1. -5. -5. -4.  5.\n",
      " -3.  3.  1. -4. -4. -4. -4.  2. -2.  4.  2. -1. -3. -5.  4. -2.  1. -3.\n",
      "  1. -1.  1.  1.  2.  2.  5.  1.  3. -1. -4.  1.  1.  3. -4. -5.  0.  1.\n",
      "  5.  2. -2.  1. -1.  4. -3. -4.  3. -1.  3.  2.  4.  5.  0. -5. -4. -4.\n",
      " -5. -4.  4.  4.  0. -5.  5. -3. -5.  1. -1.  2.  3. -4.  4. -2.  1.  0.\n",
      " -4. -5.  2. -1.  5.  1. -5. -1. -5. -5. -4. -5. -1.  2.  0.  4.  2.  3.\n",
      " -4.  0.  2.  4.  5.  1. -4.  1.  3.  0. -1. -4.  5. -4. -5.  5.  4.  3.\n",
      "  1.  0. -1. -2. -5. -1.  0.  1. -2. -1. -2. -1.  0. -3. -1. -1.  5.  4.\n",
      " -3.  5. -1. -3.  0. -2. -5. -1. -3. -5. -4.  3. -3.  0.  0.  2.  2. -4.\n",
      " -3. -1.  2. -2.  1. -2.  5.  5.  4. -2. -1. -4. -4.  3.  5.  5. -1.  1.\n",
      "  5.  3. -2. -3.  5. -1.  4. -1.  0.  1. -2. -5.  5.  2.  0.  4. -5.  1.\n",
      "  1.  5.  5. -4. -5.  1. -2.  3. -2. -2.  5.  0. -1.  1. -3.  1.  2. -4.\n",
      "  0. -5. -3.  1.  2. -3. -5.  3. -5. -2.  3. -2.  2. -1.  1. -4.  3.  1.\n",
      "  4.  0.  3. -4. -5.  0.  4.  3.  5.  5.  5.  5.  0. -1.  5.  5. -4.  4.\n",
      " -2. -5.  2.  5.  1. -3. -1.  0.  5.  0.  3. -5.  2. -2. -1. -4.  4.  3.\n",
      " -3.  0.  1. -2. -2. -3. -2. -3. -1.  1.  0.  3.  1. -1.  2. -1.  3.  5.\n",
      "  1.  2. -5. -4.  1.  1. -3. -4. -1. -5.  2.  0.  0.  5. -3.  0.  0.  0.\n",
      " -4.  1.  3.  1. -4.  0.  4.  2.  1. -1. -3. -3.  2. -1.  2. -1. -5. -5.\n",
      " -2.  4.  3. -1.  3.  5.  3. -3.  5.  4.  0.  4. -2. -3. -4.  4.  5.  4.\n",
      "  4. -4. -1.  4.  4.  2. -3.  4.  4.  1. -1. -3. -5.  3. -1.  4.  5. -4.\n",
      " -5.  2.  3.  3.  4. -4. -5.  1. -4.  1. -5.  0.  4.  1.  5. -3.  1. -5.\n",
      "  1. -1. -5. -1.  1. -2. -4. -1.  3.  2.  3. -5. -3.  5. -2. -3. -1. -1.\n",
      " -1.  0. -4.  3.  1.  4. -3. -2. -3. -1.  2. -1. -5. -2. -2. -2.  0. -2.\n",
      " -3.  3.  0.  0. -5. -5. -1. -2.  2. -1.  0. -1. -3. -5.  1.  2.  4. -2.\n",
      " -3.  2.  4. -2. -3.  0. -1.  3.  2.  3.  1.  3. -5. -3. -5.  2.  0.  3.\n",
      "  3. -4. -2. -1. -1. -5.  0.  4.  4.  4. -5. -4.  4. -3. -4. -4.  2. -3.\n",
      " -3.  1.  3.  5. -2.  4. -2. -2.  4.  5.  0.  1. -1. -3. -5.  0.  5. -1.\n",
      " -4. -4.  4.  2.  4.  5.  2. -1.  1.  4. -4. -2. -3.  1. -5. -1.  5. -2.\n",
      "  4.  4. -3.  4.  0.  4.  1.  3. -4. -1.  3.  2. -5.  5.  4.  5. -2. -3.\n",
      " -1.  4. -5.  2.  4.  5. -1.  1.  2. -5. -2.  5. -4.  5.  2.  5. -2.  5.\n",
      "  2.  5. -5. -3.  1. -2.  1. -1. -4.  0.]\n"
     ]
    }
   ],
   "source": [
    "weigths = []\n",
    "for _ in range(len(x_train[0])):\n",
    "    weigths.append(random.randint(-5, 5))\n",
    "weigths = np.array(weigths, np.float32)\n",
    "w_0 = random.randint(-5, 5)\n",
    "print(weigths)"
   ]
  },
  {
   "cell_type": "code",
   "execution_count": 7,
   "metadata": {},
   "outputs": [],
   "source": [
    "def predict(x, weigths):\n",
    "    D = np.dot(x, weigths) + w_0\n",
    "    if D > 0:\n",
    "        return 0\n",
    "    else:\n",
    "        return 1"
   ]
  },
  {
   "cell_type": "code",
   "execution_count": 8,
   "metadata": {},
   "outputs": [],
   "source": [
    "def train(x_train, y_train, weigths, w_0, epochs):\n",
    "    isLearning = True\n",
    "    epoch = 0\n",
    "    acc = []\n",
    "    while(isLearning and epoch != epochs):\n",
    "        epoch += 1\n",
    "        E = 0\n",
    "        right_answ_c = 0\n",
    "        for x_t, y_t in zip(x_train, y_train):\n",
    "            y_pred = predict(x_t, weigths)\n",
    "            if y_pred == y_t:\n",
    "                E += 1\n",
    "                right_answ_c += 1\n",
    "                continue\n",
    "            if y_t == 0 and y_t != y_pred:\n",
    "                w_0 += 1\n",
    "                for i in range(len(x_t)):\n",
    "                    weigths[i] += x_t[i]\n",
    "\n",
    "            if y_t == 1 and y_t != y_pred:\n",
    "                w_0 -= 1\n",
    "                for i in range(len(x_t)):\n",
    "                    weigths[i] -= x_t[i]\n",
    "        \n",
    "        acc.append(right_answ_c/len(y_train))\n",
    "\n",
    "        if epoch % 10 == 0:\n",
    "            print('Epoch {0} acc {1}'.format(epoch, E/len(x_train)))\n",
    "        \n",
    "        if E == len(x_train):\n",
    "            isLearning = False\n",
    "            print('Learning has ended on {} epoch'.format(epoch))  \n",
    "\n",
    "    return epoch, acc  \n"
   ]
  },
  {
   "cell_type": "code",
   "execution_count": 9,
   "metadata": {},
   "outputs": [
    {
     "name": "stdout",
     "output_type": "stream",
     "text": [
      "Epoch 10 acc 0.9996052112120016\n",
      "Learning has ended on 13 epoch\n"
     ]
    }
   ],
   "source": [
    "epochs, accs = train(x_train, y_trn, weigths, w_0, 1000)"
   ]
  },
  {
   "cell_type": "code",
   "execution_count": 10,
   "metadata": {},
   "outputs": [
    {
     "data": {
      "text/plain": [
       "[<matplotlib.lines.Line2D at 0x1d8969d0a90>]"
      ]
     },
     "execution_count": 10,
     "metadata": {},
     "output_type": "execute_result"
    },
    {
     "data": {
      "image/png": "[encoded data removed]",
      "text/plain": [
       "<Figure size 640x480 with 1 Axes>"
      ]
     },
     "metadata": {},
     "output_type": "display_data"
    }
   ],
   "source": [
    "plt.plot(np.arange(epochs), np.array(accs))"
   ]
  },
  {
   "cell_type": "code",
   "execution_count": 11,
   "metadata": {},
   "outputs": [
    {
     "name": "stdout",
     "output_type": "stream",
     "text": [
      "Accuracy 0.9981087470449173\n"
     ]
    }
   ],
   "source": [
    "acc = 0\n",
    "for x_t, y_t in zip(x_test, y_tst):\n",
    "    if predict(x_t, weigths) == y_t:\n",
    "        acc += 1\n",
    "        \n",
    "acc /= len(x_test)\n",
    "print('Accuracy {}'.format(acc))"
   ]
  }
 ],
 "metadata": {
  "kernelspec": {
   "display_name": "Python 3",
   "language": "python",
   "name": "python3"
  },
  "language_info": {
   "codemirror_mode": {
    "name": "ipython",
    "version": 3
   },
   "file_extension": ".py",
   "mimetype": "text/x-python",
   "name": "python",
   "nbconvert_exporter": "python",
   "pygments_lexer": "ipython3",
   "version": "3.10.10"
  },
  "orig_nbformat": 4
 },
 "nbformat": 4,
 "nbformat_minor": 2
}
