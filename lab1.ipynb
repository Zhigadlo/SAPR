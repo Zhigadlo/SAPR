{
 "cells": [
  {
   "cell_type": "code",
   "execution_count": 104,
   "metadata": {},
   "outputs": [],
   "source": [
    "import numpy as np"
   ]
  },
  {
   "cell_type": "code",
   "execution_count": 105,
   "metadata": {},
   "outputs": [],
   "source": [
    "name_dict = { \"плохая\" : 0.1, \"средняя\" : 0.4, \"хорошая\" : 0.73, \"развитая\" : 0.9 }"
   ]
  },
  {
   "cell_type": "code",
   "execution_count": 106,
   "metadata": {},
   "outputs": [
    {
     "name": "stdout",
     "output_type": "stream",
     "text": [
      "[[0.4, 0.73, 3.5], [0.1, 0.73, 2.5], [0.9, 0.1, 3], [1.0, 0.4, 3.5], [0.4, 1.23, 3], [0.1, 0.4, 2]]\n"
     ]
    }
   ],
   "source": [
    "table = [\n",
    "    [name_dict[\"средняя\"], name_dict[\"хорошая\"], 3.5],\n",
    "    [name_dict[\"плохая\"], name_dict[\"хорошая\"], 2.5],\n",
    "    [name_dict[\"развитая\"], name_dict[\"плохая\"], 3],\n",
    "    [name_dict[\"развитая\"]+0.1, name_dict[\"средняя\"], 3.5],\n",
    "    [name_dict[\"средняя\"], name_dict[\"хорошая\"] + 0.5, 3],\n",
    "    [name_dict[\"плохая\"], name_dict[\"средняя\"], 2]\n",
    "]\n",
    "\n",
    "print(table)"
   ]
  },
  {
   "cell_type": "code",
   "execution_count": 107,
   "metadata": {},
   "outputs": [],
   "source": [
    "def Pareto_method(table):\n",
    "    Y = table.copy()\n",
    "    delete_indices = []\n",
    "    for i in range(len(table)-1):\n",
    "        forDelete = True\n",
    "        for k in range(len(table[i])):\n",
    "            if table[i][k] < table[i+1][k]:\n",
    "                forDelete = False\n",
    "                break\n",
    "        \n",
    "        if forDelete:\n",
    "            Y.pop(i+1-(len(table)-len(Y)))\n",
    "        else:\n",
    "            forDelete = True\n",
    "            for k in range(len(table[i])):\n",
    "                if table[i][k] >= table[i+1][k]:\n",
    "                    forDelete = False\n",
    "                    break\n",
    "        \n",
    "            if forDelete:\n",
    "                Y.pop(i-(len(table)-len(Y)))\n",
    "\n",
    "    return Y\n"
   ]
  },
  {
   "cell_type": "code",
   "execution_count": 108,
   "metadata": {},
   "outputs": [
    {
     "name": "stdout",
     "output_type": "stream",
     "text": [
      "Before Pareto: [[0.4, 0.73, 3.5], [0.1, 0.73, 2.5], [0.9, 0.1, 3], [1.0, 0.4, 3.5], [0.4, 1.23, 3], [0.1, 0.4, 2]]\n",
      "---------------------------------------------------------------------------------------\n",
      "After Pareto: [[0.4, 0.73, 3.5], [1.0, 0.4, 3.5], [0.4, 1.23, 3]]\n"
     ]
    }
   ],
   "source": [
    "pareto_table = Pareto_method(table)\n",
    "print(\"Before Pareto: {}\".format(table))\n",
    "print(\"---------------------------------------------------------------------------------------\")\n",
    "print(\"After Pareto: {}\".format(pareto_table))"
   ]
  },
  {
   "cell_type": "code",
   "execution_count": 109,
   "metadata": {},
   "outputs": [],
   "source": [
    "rating = [[9, 7, 7],[9, 8, 7]]"
   ]
  },
  {
   "cell_type": "code",
   "execution_count": 110,
   "metadata": {},
   "outputs": [],
   "source": [
    "def rank_method(rating):\n",
    "    rating = np.array(rating)\n",
    "    c_sum = [sum(rating[:, i]) for i in range(len(rating[0]))]\n",
    "    C = sum(c_sum)\n",
    "    weights = [c_sum[i] / C for i in range(len(c_sum))]\n",
    "    return weights"
   ]
  },
  {
   "cell_type": "code",
   "execution_count": 111,
   "metadata": {},
   "outputs": [
    {
     "name": "stdout",
     "output_type": "stream",
     "text": [
      "weigths: [0.3829787234042553, 0.3191489361702128, 0.2978723404255319]\n"
     ]
    }
   ],
   "source": [
    "weights = rank_method(rating)\n",
    "print(\"weigths: {0}\".format(weights))"
   ]
  },
  {
   "cell_type": "code",
   "execution_count": 112,
   "metadata": {},
   "outputs": [],
   "source": [
    "def normalize(table):\n",
    "    result = np.copy(table)\n",
    "    result[:, 2] /= np.max(result[:, 2])\n",
    "    return result"
   ]
  },
  {
   "cell_type": "code",
   "execution_count": 113,
   "metadata": {},
   "outputs": [],
   "source": [
    "def agreement_matrix(table):\n",
    "  c = np.zeros((len(table), len(table)))\n",
    "\n",
    "  np.fill_diagonal(c, 1)\n",
    "  for i in range(len(table)):\n",
    "      iter_row = table[i]\n",
    "      for j in range(len(table)):\n",
    "        if(i != j):\n",
    "          jiter_row = table[j]\n",
    "\n",
    "          betters_value = []\n",
    "          for m in range(len(iter_row)):\n",
    "            if(iter_row[m] >= jiter_row[m]):\n",
    "              betters_value.append(m)\n",
    "\n",
    "          for p in range(len(betters_value)):\n",
    "            c[i][j] += weights[betters_value[p]] \n",
    "  \n",
    "  print(\"agreement matrix:\\n {}\".format(c))\n",
    "  return c     "
   ]
  },
  {
   "cell_type": "code",
   "execution_count": 114,
   "metadata": {},
   "outputs": [],
   "source": [
    "def disagreement_matrix(table):\n",
    "    c = np.zeros((len(table), len(table)))\n",
    "\n",
    "    np.fill_diagonal(c, -1)\n",
    "    for i in range(len(table)):\n",
    "        iter_row = table[i]\n",
    "        for j in range(len(table)):\n",
    "            if(i != j):\n",
    "                jiter_row = table[j]\n",
    "\n",
    "                betters_value = []\n",
    "                for m in range(len(iter_row)):\n",
    "                    if(iter_row[m] <= jiter_row[m]):\n",
    "                        betters_value.append(m)\n",
    "\n",
    "                for p in range(len(betters_value)):\n",
    "                    c[i][j] += weights[betters_value[p]] \n",
    "\n",
    "    print(\"disagreement matrix:\\n {}\".format(c))\n",
    "    return c    "
   ]
  },
  {
   "cell_type": "code",
   "execution_count": 115,
   "metadata": {},
   "outputs": [],
   "source": [
    "def electra_method(pareto_table):\n",
    "    agr_matrix = agreement_matrix(pareto_table)\n",
    "    disagr_matrix = disagreement_matrix(pareto_table)\n",
    "    agr_min, disagr_max = np.amin(agr_matrix, 1), np.amax(disagr_matrix, 1) \n",
    "    с_core, d_core = 0.31, 0.7\n",
    "    print('Agreement core: {}'.format(с_core))\n",
    "    print('Disagreement core: {}'.format(d_core))\n",
    "    print('Agreement min: {}'.format(agr_min))\n",
    "    print('Disagreement max: {0}\\n'.format(disagr_max))\n",
    "\n",
    "    print('Pareto alternatives:')\n",
    "    for row in pareto_table:\n",
    "        print(row)\n",
    "\n",
    "    print('Best alternatives by Electra:')\n",
    "    for i in range(len(agr_min)):\n",
    "        if(agr_min[i] > с_core and disagr_max[i] < d_core):\n",
    "            print('{}'.format(pareto_table[i]))\n"
   ]
  },
  {
   "cell_type": "code",
   "execution_count": 116,
   "metadata": {},
   "outputs": [
    {
     "name": "stdout",
     "output_type": "stream",
     "text": [
      "agreement matrix:\n",
      " [[1.         0.61702128 0.68085106]\n",
      " [0.68085106 1.         0.68085106]\n",
      " [0.70212766 0.31914894 1.        ]]\n",
      "disagreement matrix:\n",
      " [[-1.          0.68085106  0.70212766]\n",
      " [ 0.61702128 -1.          0.31914894]\n",
      " [ 0.68085106  0.68085106 -1.        ]]\n",
      "Agreement core: 0.31\n",
      "Disagreement core: 0.7\n",
      "Agreement min: [0.61702128 0.68085106 0.31914894]\n",
      "Disagreement max: [0.70212766 0.61702128 0.68085106]\n",
      "\n",
      "Pareto alternatives:\n",
      "[0.4, 0.73, 3.5]\n",
      "[1.0, 0.4, 3.5]\n",
      "[0.4, 1.23, 3]\n",
      "Best alternatives by Electra:\n",
      "[1.0, 0.4, 3.5]\n",
      "[0.4, 1.23, 3]\n"
     ]
    }
   ],
   "source": [
    "electra_method(pareto_table)"
   ]
  }
 ],
 "metadata": {
  "kernelspec": {
   "display_name": "Python 3",
   "language": "python",
   "name": "python3"
  },
  "language_info": {
   "codemirror_mode": {
    "name": "ipython",
    "version": 3
   },
   "file_extension": ".py",
   "mimetype": "text/x-python",
   "name": "python",
   "nbconvert_exporter": "python",
   "pygments_lexer": "ipython3",
   "version": "3.10.9"
  },
  "orig_nbformat": 4,
  "vscode": {
   "interpreter": {
    "hash": "998369041aaf8d2cde9704fb3b5cab01646b16d66297801daa274dbb324879a7"
   }
  }
 },
 "nbformat": 4,
 "nbformat_minor": 2
}
